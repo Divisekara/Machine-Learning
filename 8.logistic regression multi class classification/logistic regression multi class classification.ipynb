{
 "cells": [
  {
   "cell_type": "markdown",
   "metadata": {},
   "source": [
    "# logistic regression multiclass regession"
   ]
  },
  {
   "cell_type": "code",
   "execution_count": 69,
   "metadata": {},
   "outputs": [],
   "source": [
    "import pandas as pd\n",
    "import numpy as np\n",
    "import matplotlib.pyplot as plt\n",
    "\n",
    "from sklearn.datasets import load_digits \n",
    "\n",
    "%matplotlib inline"
   ]
  },
  {
   "cell_type": "code",
   "execution_count": 70,
   "metadata": {},
   "outputs": [],
   "source": [
    "digits = load_digits() ##this dataset consisits of images made up of 1797 8x8 images"
   ]
  },
  {
   "cell_type": "code",
   "execution_count": 71,
   "metadata": {},
   "outputs": [
    {
     "data": {
      "text/plain": [
       "['DESCR', 'data', 'feature_names', 'frame', 'images', 'target', 'target_names']"
      ]
     },
     "execution_count": 71,
     "metadata": {},
     "output_type": "execute_result"
    }
   ],
   "source": [
    "dir(digits)"
   ]
  },
  {
   "cell_type": "code",
   "execution_count": 72,
   "metadata": {},
   "outputs": [
    {
     "data": {
      "text/plain": [
       "array([ 0.,  0.,  5., 13.,  9.,  1.,  0.,  0.,  0.,  0., 13., 15., 10.,\n",
       "       15.,  5.,  0.,  0.,  3., 15.,  2.,  0., 11.,  8.,  0.,  0.,  4.,\n",
       "       12.,  0.,  0.,  8.,  8.,  0.,  0.,  5.,  8.,  0.,  0.,  9.,  8.,\n",
       "        0.,  0.,  4., 11.,  0.,  1., 12.,  7.,  0.,  0.,  2., 14.,  5.,\n",
       "       10., 12.,  0.,  0.,  0.,  0.,  6., 13., 10.,  0.,  0.,  0.])"
      ]
     },
     "execution_count": 72,
     "metadata": {},
     "output_type": "execute_result"
    }
   ],
   "source": [
    "digits.data[0]"
   ]
  },
  {
   "cell_type": "code",
   "execution_count": 73,
   "metadata": {},
   "outputs": [
    {
     "data": {
      "text/plain": [
       "<Figure size 432x288 with 0 Axes>"
      ]
     },
     "metadata": {},
     "output_type": "display_data"
    },
    {
     "data": {
      "image/png": "[encoded data removed]",
      "text/plain": [
       "<Figure size 288x288 with 1 Axes>"
      ]
     },
     "metadata": {
      "needs_background": "light"
     },
     "output_type": "display_data"
    },
    {
     "data": {
      "image/png": "[encoded data removed]",
      "text/plain": [
       "<Figure size 288x288 with 1 Axes>"
      ]
     },
     "metadata": {
      "needs_background": "light"
     },
     "output_type": "display_data"
    },
    {
     "data": {
      "image/png": "[encoded data removed]",
      "text/plain": [
       "<Figure size 288x288 with 1 Axes>"
      ]
     },
     "metadata": {
      "needs_background": "light"
     },
     "output_type": "display_data"
    },
    {
     "data": {
      "image/png": "[encoded data removed]",
      "text/plain": [
       "<Figure size 288x288 with 1 Axes>"
      ]
     },
     "metadata": {
      "needs_background": "light"
     },
     "output_type": "display_data"
    },
    {
     "data": {
      "image/png": "[encoded data removed]",
      "text/plain": [
       "<Figure size 288x288 with 1 Axes>"
      ]
     },
     "metadata": {
      "needs_background": "light"
     },
     "output_type": "display_data"
    }
   ],
   "source": [
    "plt.gray()\n",
    "\n",
    "##Printing the first five images of the dataset\n",
    "for i in range(5):\n",
    "    plt.matshow(digits.images[i])  "
   ]
  },
  {
   "cell_type": "code",
   "execution_count": 74,
   "metadata": {},
   "outputs": [
    {
     "data": {
      "text/plain": [
       "array([0, 1, 2, 3, 4, 5, 6, 7, 8, 9, 0, 1, 2, 3, 4, 5, 6, 7, 8, 9, 0, 1,\n",
       "       2, 3, 4, 5, 6, 7, 8, 9, 0, 9, 5, 5, 6, 5, 0, 9, 8, 9, 8, 4, 1, 7,\n",
       "       7, 3, 5, 1, 0, 0, 2, 2, 7, 8, 2, 0, 1, 2, 6, 3, 3, 7, 3, 3, 4, 6,\n",
       "       6, 6, 4, 9, 1, 5, 0, 9, 5, 2, 8, 2, 0, 0, 1, 7, 6, 3, 2, 1, 7, 4,\n",
       "       6, 3, 1, 3, 9, 1, 7, 6, 8, 4, 3, 1, 4, 0, 5, 3, 6, 9, 6, 1, 7, 5,\n",
       "       4, 4, 7, 2, 8, 2, 2, 5, 7, 9])"
      ]
     },
     "execution_count": 74,
     "metadata": {},
     "output_type": "execute_result"
    }
   ],
   "source": [
    "digits.target[0:120]"
   ]
  },
  {
   "cell_type": "code",
   "execution_count": 75,
   "metadata": {},
   "outputs": [],
   "source": [
    "from sklearn.model_selection import train_test_split"
   ]
  },
  {
   "cell_type": "code",
   "execution_count": 76,
   "metadata": {},
   "outputs": [
    {
     "data": {
      "text/plain": [
       "array([2, 3, 8, 5, 8, 2, 7, 6, 7, 9, 2, 3, 7, 0, 9, 4, 1, 8, 8, 3, 5, 5,\n",
       "       0, 7, 1, 3, 9, 7, 9, 8, 6, 6, 6, 2, 0, 8, 7, 0, 6, 4, 6, 1, 4, 3,\n",
       "       1, 7, 9, 2, 3, 3, 8, 3, 7, 1, 6, 2, 8, 2, 2, 4, 8, 8, 6, 8, 1, 9,\n",
       "       2, 4, 1, 1, 8, 8, 8, 7, 1, 1, 3, 0, 0, 1, 4, 2, 8, 8, 6, 5, 0, 6,\n",
       "       5, 7, 0, 4, 1, 1, 5, 9, 6, 7, 0, 5, 6, 8, 3, 0, 0, 0, 5, 0, 0, 1,\n",
       "       5, 8, 7, 0, 1, 8, 1, 7, 8, 1, 5, 1, 0, 3, 5, 2, 5, 2, 4, 6, 7, 5,\n",
       "       2, 0, 9, 6, 0, 5, 8, 2, 7, 1, 6, 5, 6, 7, 2, 1, 2, 1, 2, 9, 0, 5,\n",
       "       4, 7, 1, 3, 3, 2, 4, 5, 3, 6, 4, 0, 3, 9, 3, 5, 0, 4, 2, 4, 2, 7,\n",
       "       1, 2, 9, 7, 0, 9, 7, 4, 2, 7, 3, 3, 2, 5, 1, 3, 4, 0, 0, 1, 4, 6,\n",
       "       2, 1, 5, 4, 2, 9, 9, 6, 4, 1, 6, 9, 0, 9, 7, 2, 8, 4, 1, 2, 9, 6,\n",
       "       3, 3, 4, 3, 7, 0, 0, 8, 0, 9, 5, 0, 1, 3, 3, 3, 6, 1, 3, 4, 1, 1,\n",
       "       1, 0, 3, 2, 3, 9, 9, 3, 9, 9, 6, 6, 9, 2, 9, 4, 3, 7, 1, 4, 8, 4,\n",
       "       3, 0, 3, 1, 4, 9, 4, 3, 8, 4, 5, 3, 8, 4, 6, 4, 2, 3, 6, 3, 6, 5,\n",
       "       8, 0, 4, 2, 2, 9, 0, 9, 1, 7, 3, 3, 0, 4, 8, 3, 9, 1, 8, 5, 9, 6,\n",
       "       5, 3, 1, 0, 7, 3, 0, 1, 6, 7, 1, 8, 0, 5, 3, 1, 7, 5, 6, 6, 4, 6,\n",
       "       7, 8, 3, 3, 8, 2, 0, 7, 6, 2, 1, 4, 5, 5, 1, 6, 0, 4, 8, 0, 8, 9,\n",
       "       9, 4, 2, 9, 9, 5, 3, 2])"
      ]
     },
     "execution_count": 76,
     "metadata": {},
     "output_type": "execute_result"
    }
   ],
   "source": [
    "x_train,x_test,y_train,y_test = train_test_split(digits.data,digits.target, test_size = 0.2)\n",
    "y_test"
   ]
  },
  {
   "cell_type": "code",
   "execution_count": 77,
   "metadata": {},
   "outputs": [
    {
     "data": {
      "text/plain": [
       "1437"
      ]
     },
     "execution_count": 77,
     "metadata": {},
     "output_type": "execute_result"
    }
   ],
   "source": [
    "len(x_train)"
   ]
  },
  {
   "cell_type": "code",
   "execution_count": 78,
   "metadata": {},
   "outputs": [
    {
     "data": {
      "text/plain": [
       "360"
      ]
     },
     "execution_count": 78,
     "metadata": {},
     "output_type": "execute_result"
    }
   ],
   "source": [
    "len(x_test)"
   ]
  },
  {
   "cell_type": "code",
   "execution_count": 79,
   "metadata": {},
   "outputs": [],
   "source": [
    "from sklearn.linear_model import LogisticRegression"
   ]
  },
  {
   "cell_type": "code",
   "execution_count": 80,
   "metadata": {},
   "outputs": [],
   "source": [
    "model = LogisticRegression()"
   ]
  },
  {
   "cell_type": "code",
   "execution_count": 81,
   "metadata": {},
   "outputs": [
    {
     "name": "stderr",
     "output_type": "stream",
     "text": [
      "c:\\users\\asitha\\appdata\\local\\programs\\python\\python38\\lib\\site-packages\\sklearn\\linear_model\\_logistic.py:760: ConvergenceWarning: lbfgs failed to converge (status=1):\n",
      "STOP: TOTAL NO. of ITERATIONS REACHED LIMIT.\n",
      "\n",
      "Increase the number of iterations (max_iter) or scale the data as shown in:\n",
      "    https://scikit-learn.org/stable/modules/preprocessing.html\n",
      "Please also refer to the documentation for alternative solver options:\n",
      "    https://scikit-learn.org/stable/modules/linear_model.html#logistic-regression\n",
      "  n_iter_i = _check_optimize_result(\n"
     ]
    },
    {
     "data": {
      "text/plain": [
       "LogisticRegression()"
      ]
     },
     "execution_count": 81,
     "metadata": {},
     "output_type": "execute_result"
    }
   ],
   "source": [
    "model.fit(x_train,y_train)"
   ]
  },
  {
   "cell_type": "code",
   "execution_count": 82,
   "metadata": {},
   "outputs": [
    {
     "data": {
      "text/plain": [
       "array([2, 3, 8, 5, 1, 2, 7, 6, 7, 9, 2, 3, 7, 0, 9, 4, 1, 8, 8, 3, 5, 5,\n",
       "       5, 7, 1, 3, 9, 7, 9, 8, 6, 6, 6, 2, 0, 8, 7, 0, 6, 4, 6, 1, 4, 3,\n",
       "       1, 7, 9, 2, 8, 3, 8, 3, 7, 1, 6, 2, 8, 2, 2, 4, 8, 8, 6, 8, 1, 9,\n",
       "       2, 4, 1, 1, 8, 8, 8, 7, 1, 1, 3, 0, 0, 1, 8, 2, 8, 8, 6, 5, 0, 6,\n",
       "       5, 7, 0, 4, 1, 1, 5, 9, 6, 7, 0, 5, 6, 8, 3, 0, 0, 0, 5, 0, 0, 1,\n",
       "       5, 8, 7, 0, 1, 8, 1, 7, 8, 1, 5, 1, 0, 3, 5, 2, 5, 2, 4, 6, 7, 5,\n",
       "       2, 0, 9, 5, 0, 5, 8, 2, 7, 1, 6, 9, 6, 7, 2, 1, 2, 1, 2, 9, 0, 5,\n",
       "       4, 7, 1, 3, 3, 2, 4, 5, 3, 6, 4, 0, 3, 9, 3, 5, 0, 4, 2, 4, 2, 7,\n",
       "       1, 2, 9, 7, 0, 8, 7, 4, 2, 7, 3, 3, 2, 6, 1, 3, 4, 0, 0, 1, 4, 6,\n",
       "       2, 1, 5, 4, 2, 9, 9, 6, 4, 1, 6, 9, 0, 9, 7, 2, 8, 4, 1, 2, 9, 6,\n",
       "       3, 3, 4, 3, 7, 0, 0, 8, 0, 9, 5, 0, 1, 3, 3, 3, 6, 1, 3, 4, 1, 1,\n",
       "       1, 0, 3, 2, 3, 9, 9, 3, 9, 9, 6, 6, 9, 2, 9, 4, 3, 7, 1, 4, 8, 4,\n",
       "       3, 0, 3, 1, 4, 9, 4, 3, 8, 4, 5, 3, 8, 4, 6, 4, 2, 3, 6, 3, 6, 5,\n",
       "       9, 0, 4, 2, 2, 9, 0, 9, 1, 7, 3, 3, 0, 4, 8, 3, 9, 1, 8, 5, 9, 6,\n",
       "       5, 3, 1, 0, 7, 3, 0, 1, 6, 7, 1, 8, 0, 5, 3, 1, 7, 5, 6, 6, 4, 6,\n",
       "       7, 8, 3, 3, 8, 2, 0, 7, 6, 2, 1, 4, 5, 5, 1, 6, 0, 0, 8, 4, 8, 9,\n",
       "       9, 4, 2, 9, 9, 5, 3, 2])"
      ]
     },
     "execution_count": 82,
     "metadata": {},
     "output_type": "execute_result"
    }
   ],
   "source": [
    "y_result = model.predict(x_test)\n",
    "y_result"
   ]
  },
  {
   "cell_type": "code",
   "execution_count": 83,
   "metadata": {},
   "outputs": [
    {
     "data": {
      "text/plain": [
       "0.9694444444444444"
      ]
     },
     "execution_count": 83,
     "metadata": {},
     "output_type": "execute_result"
    }
   ],
   "source": [
    "model.score(x_test,y_test)"
   ]
  },
  {
   "cell_type": "code",
   "execution_count": 84,
   "metadata": {},
   "outputs": [
    {
     "data": {
      "text/plain": [
       "<matplotlib.image.AxesImage at 0x34ceb52730>"
      ]
     },
     "execution_count": 84,
     "metadata": {},
     "output_type": "execute_result"
    },
    {
     "data": {
      "image/png": "[encoded data removed]",
      "text/plain": [
       "<Figure size 288x288 with 1 Axes>"
      ]
     },
     "metadata": {
      "needs_background": "light"
     },
     "output_type": "display_data"
    }
   ],
   "source": [
    "plt.matshow(digits.images[67])"
   ]
  },
  {
   "cell_type": "code",
   "execution_count": 85,
   "metadata": {},
   "outputs": [
    {
     "data": {
      "text/plain": [
       "array([6])"
      ]
     },
     "execution_count": 85,
     "metadata": {},
     "output_type": "execute_result"
    }
   ],
   "source": [
    "model.predict(digits.data[[67]])"
   ]
  },
  {
   "cell_type": "code",
   "execution_count": 86,
   "metadata": {},
   "outputs": [
    {
     "data": {
      "text/plain": [
       "array([0, 1, 2, 3, 4])"
      ]
     },
     "execution_count": 86,
     "metadata": {},
     "output_type": "execute_result"
    }
   ],
   "source": [
    "model.predict(digits.data[0:5])"
   ]
  },
  {
   "cell_type": "code",
   "execution_count": 87,
   "metadata": {},
   "outputs": [
    {
     "name": "stdout",
     "output_type": "stream",
     "text": [
      "1 8\n",
      "5 0\n",
      "8 3\n",
      "8 4\n",
      "5 6\n",
      "9 5\n",
      "8 9\n",
      "6 5\n",
      "9 8\n",
      "0 4\n",
      "4 0\n",
      "11\n"
     ]
    }
   ],
   "source": [
    "count = 0\n",
    "for i in range(len(y_test)):\n",
    "    if y_result[i] != y_test[i]:\n",
    "        print (y_result[i],y_test[i])\n",
    "        count +=1\n",
    "        #plt.matshow(digits.images[i])\n",
    "print(count)"
   ]
  },
  {
   "cell_type": "code",
   "execution_count": 88,
   "metadata": {
    "scrolled": false
   },
   "outputs": [
    {
     "data": {
      "text/plain": [
       "array([[38,  0,  0,  0,  1,  1,  0,  0,  0,  0],\n",
       "       [ 0, 43,  0,  0,  0,  0,  0,  0,  0,  0],\n",
       "       [ 0,  0, 36,  0,  0,  0,  0,  0,  0,  0],\n",
       "       [ 0,  0,  0, 44,  0,  0,  0,  0,  1,  0],\n",
       "       [ 1,  0,  0,  0, 33,  0,  0,  0,  1,  0],\n",
       "       [ 0,  0,  0,  0,  0, 28,  1,  0,  0,  1],\n",
       "       [ 0,  0,  0,  0,  0,  1, 33,  0,  0,  0],\n",
       "       [ 0,  0,  0,  0,  0,  0,  0, 30,  0,  0],\n",
       "       [ 0,  1,  0,  0,  0,  0,  0,  0, 32,  1],\n",
       "       [ 0,  0,  0,  0,  0,  0,  0,  0,  1, 32]], dtype=int64)"
      ]
     },
     "execution_count": 88,
     "metadata": {},
     "output_type": "execute_result"
    }
   ],
   "source": [
    "y_predicted = model.predict(x_test)\n",
    "\n",
    "from sklearn.metrics import confusion_matrix\n",
    "\n",
    "cm = confusion_matrix(y_test,y_predicted)\n",
    "cm"
   ]
  },
  {
   "cell_type": "code",
   "execution_count": 89,
   "metadata": {},
   "outputs": [
    {
     "data": {
      "text/plain": [
       "Text(69.0, 0.5, 'Truth')"
      ]
     },
     "execution_count": 89,
     "metadata": {},
     "output_type": "execute_result"
    },
    {
     "data": {
      "image/png": "[encoded data removed]",
      "text/plain": [
       "<Figure size 720x504 with 2 Axes>"
      ]
     },
     "metadata": {
      "needs_background": "light"
     },
     "output_type": "display_data"
    }
   ],
   "source": [
    "import seaborn as sn\n",
    "plt.figure(figsize = (10,7))\n",
    "sn.heatmap(cm, annot = True)\n",
    "plt.xlabel('Predicted')\n",
    "plt.ylabel('Truth')"
   ]
  },
  {
   "cell_type": "code",
   "execution_count": null,
   "metadata": {},
   "outputs": [],
   "source": []
  }
 ],
 "metadata": {
  "kernelspec": {
   "display_name": "Python 3",
   "language": "python",
   "name": "python3"
  },
  "language_info": {
   "codemirror_mode": {
    "name": "ipython",
    "version": 3
   },
   "file_extension": ".py",
   "mimetype": "text/x-python",
   "name": "python",
   "nbconvert_exporter": "python",
   "pygments_lexer": "ipython3",
   "version": "3.8.3"
  }
 },
 "nbformat": 4,
 "nbformat_minor": 4
}
